{
 "cells": [
  {
   "cell_type": "code",
   "execution_count": 13,
   "metadata": {},
   "outputs": [],
   "source": [
    "pgn = '''[Event \"Rated Rapid game\"]\n",
    "[Site \"https://lichess.org/xpek4wLS\"]\n",
    "[Date \"2023.10.12\"]\n",
    "[White \"novato021\"]\n",
    "[Black \"broskiphone\"]\n",
    "[Result \"0-1\"]\n",
    "[UTCDate \"2023.10.12\"]\n",
    "[UTCTime \"02:23:11\"]\n",
    "[WhiteElo \"1318\"]\n",
    "[BlackElo \"1404\"]\n",
    "[WhiteRatingDiff \"-5\"]\n",
    "[BlackRatingDiff \"+145\"]\n",
    "[Variant \"Standard\"]\n",
    "[TimeControl \"600+5\"]\n",
    "[ECO \"A45\"]\n",
    "[Opening \"Canard Opening\"]\n",
    "[Termination \"Normal\"]\n",
    "[Annotator \"lichess.org\"]\n",
    "\n",
    "1. d4 { [%eval 0.0] [%clk 0:10:00] } 1... Nf6 { [%eval 0.28] [%clk 0:10:00] } 2. f4?! { (0.28 → -0.54) Inaccuracy. c4 was best. } { [%eval -0.54] [%clk 0:09:35] } { A45 Canard Opening } (2. c4 e6 3. Nf3 d5 4. Nc3 Bb4 5. Qa4+ Nc6 6. e3 O-O) 2... d5 { [%eval -0.58] [%clk 0:09:26] } 3. e3 { [%eval -0.73] [%clk 0:09:18] } 3... c5 { [%eval -0.36] [%clk 0:08:33] } 4. dxc5 { [%eval -0.91] [%clk 0:09:21] } 4... Qa5+ { [%eval -0.55] [%clk 0:08:17] } 5. Nc3 { [%eval -0.52] [%clk 0:09:13] } 5... Nc6?! { (-0.52 → 0.45) Inaccuracy. Qxc5 was best. } { [%eval 0.45] [%clk 0:07:53] } (5... Qxc5 6. Nf3) 6. a3?! { (0.45 → -0.29) Inaccuracy. Bb5 was best. } { [%eval -0.29] [%clk 0:08:58] } (6. Bb5) 6... Qxc5 { [%eval -0.2] [%clk 0:07:50] } 7. b4? { (-0.20 → -1.34) Mistake. Qd2 was best. } { [%eval -1.34] [%clk 0:08:46] } (7. Qd2 g6 8. b4 Qb6 9. Bb2 Bh6 10. Bd3 O-O 11. Na4 Qc7 12. Ne2 Bg7 13. O-O Re8) 7... Qxc3+? { (-1.34 → 0.00) Mistake. Nxb4 was best. } { [%eval 0.0] [%clk 0:07:53] } (7... Nxb4 8. axb4 Qxc3+ 9. Bd2 Qc7 10. Nf3 e6 11. Bd3 Be7 12. O-O Bd7 13. Ne5 O-O 14. Rc1) 8. Bd2 { [%eval 0.0] [%clk 0:08:37] } 8... Qb2 { [%eval 0.0] [%clk 0:07:17] } 9. Ne2?? { (0.00 → -4.58) Blunder. Rb1 was best. } { [%eval -4.58] [%clk 0:08:15] } (9. Rb1 Qxa3 10. Ra1 Qb2 11. Rb1) 9... Ne4 { [%eval -4.63] [%clk 0:06:46] } 10. g3 { [%eval -5.32] [%clk 0:06:44] } 10... Nxd2 { [%eval -5.24] [%clk 0:06:42] } 11. Kxd2 { [%eval -5.21] [%clk 0:06:45] } 11... g6 { [%eval -5.48] [%clk 0:05:56] } 12. Nc3 { [%eval -6.1] [%clk 0:06:19] } 12... Bg7 { [%eval -6.06] [%clk 0:04:25] } 13. Nxd5 { [%eval -5.95] [%clk 0:06:10] } 13... Qxa1?! { (-5.95 → -4.62) Inaccuracy. O-O was best. } { [%eval -4.62] [%clk 0:04:09] } (13... O-O 14. Bg2 Rd8 15. Ke1 Bf5 16. Kf2 e6 17. e4 Rxd5 18. exf5 Rd4 19. Re1 gxf5) 14. Qxa1 { [%eval -4.64] [%clk 0:06:06] } 14... Bxa1 { [%eval -4.52] [%clk 0:04:12] } 15. Nc7+ { [%eval -4.67] [%clk 0:06:05] } 15... Kd8 { [%eval -4.57] [%clk 0:04:16] } 16. Nxa8 { [%eval -4.58] [%clk 0:06:05] } 16... Bf5 { [%eval -4.71] [%clk 0:03:48] } 17. Bb5 { [%eval -5.58] [%clk 0:05:54] } 17... Bg7 { [%eval -5.81] [%clk 0:03:20] } 18. Bxc6 { [%eval -5.73] [%clk 0:05:25] } 18... bxc6 { [%eval -5.82] [%clk 0:03:23] } 19. a4 { [%eval -5.86] [%clk 0:04:46] } 19... Kc8 { [%eval -5.73] [%clk 0:03:24] } 20. b5 { [%eval -5.95] [%clk 0:04:47] } 20... cxb5 { [%eval -6.17] [%clk 0:03:26] } 21. axb5 { [%eval -6.11] [%clk 0:04:50] } 21... Kb7 { [%eval -6.15] [%clk 0:03:30] } 22. b6 { [%eval -7.04] [%clk 0:04:30] } 22... axb6 { [%eval -6.06] [%clk 0:03:32] } 23. h3 { [%eval -6.93] [%clk 0:04:25] } 23... Rxa8 { [%eval -7.04] [%clk 0:03:30] } 24. g4 { [%eval -7.24] [%clk 0:04:27] } 24... Be4 { [%eval -7.81] [%clk 0:03:31] } 25. Rb1 { [%eval -7.9] [%clk 0:04:29] } 25... Ra2 { [%eval -7.69] [%clk 0:02:25] } 26. Rb4 { [%eval -7.53] [%clk 0:04:08] } 26... Bxc2 { [%eval -8.1] [%clk 0:02:14] } 27. Ke2 { [%eval -9.03] [%clk 0:03:50] } 27... Be4+ { [%eval -8.56] [%clk 0:02:10] } 28. Kf1 { [%eval -8.29] [%clk 0:03:43] } 28... Bf3 { [%eval -7.9] [%clk 0:01:39] } 29. Rb3 { [%eval -9.04] [%clk 0:02:52] } 29... Rb2 { [%eval -8.25] [%clk 0:00:42] } 30. Rd3 { [%eval -12.98] [%clk 0:02:47] } 30... Be2+ { [%eval -13.96] [%clk 0:00:40] } 31. Kf2?! { (-13.96 → Mate in 18) Checkmate is now unavoidable. Kg2 was best. } { [%eval #-18] [%clk 0:02:45] } (31. Kg2 Bxd3+ 32. Kf3 b5 33. e4 Bd4 34. e5 b4 35. Kg3 Kc6 36. Kh4 Rh2 37. Kg3 Rf2) 31... Bxd3+ { [%eval -14.06] [%clk 0:00:43] } 32. Kg3 { [%eval -32.13] [%clk 0:02:43] } 32... Bf6 { [%eval -32.04] [%clk 0:00:44] } 33. g5 { [%eval -32.24] [%clk 0:02:36] } 33... Bc3 { [%eval -37.77] [%clk 0:00:44] } 34. Kf3 { [%eval -14.33] [%clk 0:02:36] } 34... Rb4 { [%eval -15.08] [%clk 0:00:43] } 35. h4?! { (-15.08 → Mate in 13) Checkmate is now unavoidable. Kg4 was best. } { [%eval #-13] [%clk 0:02:35] } (35. Kg4 b5 36. h4 Rb1 37. h5 b4 38. Kg3 gxh5 39. f5 Bxf5 40. Kf3 Re1 41. Kg3 b3) 35... Bf5?! { (Mate in 13 → -36.14) Lost forced checkmate sequence. Be4+ was best. } { [%eval -36.14] [%clk 0:00:47] } (35... Be4+ 36. Kf2 Rb2+ 37. Kg1 b5 38. h5 b4 39. Kf1 gxh5 40. f5 Bxf5 41. Kg1 Be5 42. g6) 36. Kg3 { [%eval -32.91] [%clk 0:02:31] } 36... Rb5 { [%eval -35.42] [%clk 0:00:49] } 37. Kf3 { [%eval -39.36] [%clk 0:02:28] } 37... Bd2 { [%eval -31.96] [%clk 0:00:49] } 38. Kf2?! { (-31.96 → Mate in 18) Checkmate is now unavoidable. e4 was best. } { [%eval #-18] [%clk 0:02:18] } (38. e4 Be6 39. f5 gxf5 40. exf5 Bxf5 41. Kf2 Rd5 42. Kf3 b5 43. h5 b4 44. Kg2 b3) 38... Rb3 { [%eval #-15] [%clk 0:00:38] } 39. Kf3 { [%eval #-16] [%clk 0:02:16] } 39... Rxe3+ { [%eval #-15] [%clk 0:00:39] } 40. Kf2 { [%eval #-13] [%clk 0:02:17] } 40... Ra3 { [%eval #-8] [%clk 0:00:40] } 41. Ke2 { [%eval #-9] [%clk 0:02:18] } 41... Bxf4 { [%eval #-5] [%clk 0:00:41] } 42. Kf2 { [%eval #-5] [%clk 0:02:21] } 42... b5 { [%eval #-8] [%clk 0:00:38] } { White resigns. } 0-1\n",
    "'''\n",
    "pattern = r'{ \\[%.*?\\] }'\n"
   ]
  },
  {
   "cell_type": "code",
   "execution_count": 12,
   "metadata": {},
   "outputs": [
    {
     "name": "stdout",
     "output_type": "stream",
     "text": [
      "[Event \"Rated Rapid game\"]\n",
      "[Site \"https://lichess.org/xpek4wLS\"]\n",
      "[Date \"2023.10.12\"]\n",
      "[White \"novato021\"]\n",
      "[Black \"broskiphone\"]\n",
      "[Result \"0-1\"]\n",
      "[UTCDate \"2023.10.12\"]\n",
      "[UTCTime \"02:23:11\"]\n",
      "[WhiteElo \"1318\"]\n",
      "[BlackElo \"1404\"]\n",
      "[WhiteRatingDiff \"-5\"]\n",
      "[BlackRatingDiff \"+145\"]\n",
      "[Variant \"Standard\"]\n",
      "[TimeControl \"600+5\"]\n",
      "[ECO \"A45\"]\n",
      "[Opening \"Canard Opening\"]\n",
      "[Termination \"Normal\"]\n",
      "[Annotator \"lichess.org\"]\n",
      "\n",
      "1. d4  1... Nf6  2. f4?! { (0.28 → -0.54) Inaccuracy. c4 was best. }  { A45 Canard Opening } (2. c4 e6 3. Nf3 d5 4. Nc3 Bb4 5. Qa4+ Nc6 6. e3 O-O) 2... d5  3. e3  3... c5  4. dxc5  4... Qa5+  5. Nc3  5... Nc6?! { (-0.52 → 0.45) Inaccuracy. Qxc5 was best. }  (5... Qxc5 6. Nf3) 6. a3?! { (0.45 → -0.29) Inaccuracy. Bb5 was best. }  (6. Bb5) 6... Qxc5  7. b4? { (-0.20 → -1.34) Mistake. Qd2 was best. }  (7. Qd2 g6 8. b4 Qb6 9. Bb2 Bh6 10. Bd3 O-O 11. Na4 Qc7 12. Ne2 Bg7 13. O-O Re8) 7... Qxc3+? { (-1.34 → 0.00) Mistake. Nxb4 was best. }  (7... Nxb4 8. axb4 Qxc3+ 9. Bd2 Qc7 10. Nf3 e6 11. Bd3 Be7 12. O-O Bd7 13. Ne5 O-O 14. Rc1) 8. Bd2  8... Qb2  9. Ne2?? { (0.00 → -4.58) Blunder. Rb1 was best. }  (9. Rb1 Qxa3 10. Ra1 Qb2 11. Rb1) 9... Ne4  10. g3  10... Nxd2  11. Kxd2  11... g6  12. Nc3  12... Bg7  13. Nxd5  13... Qxa1?! { (-5.95 → -4.62) Inaccuracy. O-O was best. }  (13... O-O 14. Bg2 Rd8 15. Ke1 Bf5 16. Kf2 e6 17. e4 Rxd5 18. exf5 Rd4 19. Re1 gxf5) 14. Qxa1  14... Bxa1  15. Nc7+  15... Kd8  16. Nxa8  16... Bf5  17. Bb5  17... Bg7  18. Bxc6  18... bxc6  19. a4  19... Kc8  20. b5  20... cxb5  21. axb5  21... Kb7  22. b6  22... axb6  23. h3  23... Rxa8  24. g4  24... Be4  25. Rb1  25... Ra2  26. Rb4  26... Bxc2  27. Ke2  27... Be4+  28. Kf1  28... Bf3  29. Rb3  29... Rb2  30. Rd3  30... Be2+  31. Kf2?! { (-13.96 → Mate in 18) Checkmate is now unavoidable. Kg2 was best. }  (31. Kg2 Bxd3+ 32. Kf3 b5 33. e4 Bd4 34. e5 b4 35. Kg3 Kc6 36. Kh4 Rh2 37. Kg3 Rf2) 31... Bxd3+  32. Kg3  32... Bf6  33. g5  33... Bc3  34. Kf3  34... Rb4  35. h4?! { (-15.08 → Mate in 13) Checkmate is now unavoidable. Kg4 was best. }  (35. Kg4 b5 36. h4 Rb1 37. h5 b4 38. Kg3 gxh5 39. f5 Bxf5 40. Kf3 Re1 41. Kg3 b3) 35... Bf5?! { (Mate in 13 → -36.14) Lost forced checkmate sequence. Be4+ was best. }  (35... Be4+ 36. Kf2 Rb2+ 37. Kg1 b5 38. h5 b4 39. Kf1 gxh5 40. f5 Bxf5 41. Kg1 Be5 42. g6) 36. Kg3  36... Rb5  37. Kf3  37... Bd2  38. Kf2?! { (-31.96 → Mate in 18) Checkmate is now unavoidable. e4 was best. }  (38. e4 Be6 39. f5 gxf5 40. exf5 Bxf5 41. Kf2 Rd5 42. Kf3 b5 43. h5 b4 44. Kg2 b3) 38... Rb3  39. Kf3  39... Rxe3+  40. Kf2  40... Ra3  41. Ke2  41... Bxf4  42. Kf2  42... b5  { White resigns. } 0-1\n",
      "\n"
     ]
    }
   ],
   "source": [
    "import re\n",
    "res = re.sub(pattern, '', pgn)\n",
    "\n",
    "print(res)"
   ]
  },
  {
   "cell_type": "code",
   "execution_count": 7,
   "metadata": {},
   "outputs": [
    {
     "name": "stdout",
     "output_type": "stream",
     "text": [
      "[Event \"Rated Rapid game\"]\n",
      "[Site \"https://lichess.org/dDqKdYff\"]\n",
      "[Date \"2023.10.12\"]\n",
      "[White \"broskiphone\"]\n",
      "[Black \"Beset2\"]\n",
      "[Result \"0-1\"]\n",
      "[UTCDate \"2023.10.12\"]\n",
      "[UTCTime \"00:08:54\"]\n",
      "[WhiteElo \"1500\"]\n",
      "[BlackElo \"1839\"]\n",
      "[WhiteRatingDiff \"-96\"]\n",
      "[BlackRatingDiff \"+3\"]\n",
      "[Variant \"Standard\"]\n",
      "[TimeControl \"600+5\"]\n",
      "[ECO \"C45\"]\n",
      "[Opening \"Scotch Game\"]\n",
      "[Termination \"Normal\"]\n",
      "[Annotator \"lichess.org\"]\n",
      "\n",
      " e5   Nc6   exd4  4. Nxd4  { C45 Scotch Game } 4... Nxd4?! { (0.03 → 0.85) Inaccuracy. Nf6 was best. }  (4... Nf6 5. Nc3 Bb4 6. Nxc6 bxc6 7. Bd3 d5 8. exd5 cxd5 9. O-O)  d6?! { (0.77 → 1.49) Inaccuracy. Qf6 was best. }  (5... Qf6 6. Qc4 Bd6 7. Nc3 Ne7 8. Nb5 Nc6 9. Nxd6+ Qxd6 10. Bd2)  Nf6   g6?? { (1.14 → 4.60) Blunder. Be7 was best. }  (7... Be7 8. Bf4 O-O 9. O-O-O Be6 10. Kb1 Nd7 11. Qd2 Bf6 12. h4) 8. Be3?? { (4.60 → 1.11) Blunder. Bg5 was best. }  (8. Bg5 Bg7 9. e5 Qe7 10. Nd5 dxe5 11. Qh4 Nxd5 12. Bxe7 Nxe7) 8... Bg7   Be6  10. O-O-O  10... a6  11. g4  11... O-O?! { (0.88 → 1.56) Inaccuracy. Qe7 was best. }  (11... Qe7 12. Bd4) 12. g5?! { (1.56 → 0.46) Inaccuracy. h4 was best. }  (12. h4 Qe7 13. h5 Rfe8 14. h6 Bh8 15. g5 Nh5 16. f4 Ng3 17. Rg1 Nxe4 18. Nxe4 Bf5) 12... Nd7? { (0.46 → 1.85) Mistake. Nh5 was best. }  (12... Nh5) 13. h4  13... f6?! { (1.91 → 2.75) Inaccuracy. b5 was best. }  (13... b5 14. h5) 14. gxf6?? { (2.75 → 0.82) Blunder. h5 was best. }  (14. h5 fxg5 15. Bxg5 Bf6 16. Bh6 g5 17. Bxf8 Qxf8 18. Bh3 Bxh3 19. Rxh3 h6 20. Nd5 Be5) 14... Rxf6? { (0.82 → 2.28) Mistake. Nxf6 was best. }  (14... Nxf6) 15. Bg5  15... Qf8  16. Bxf6  16... Qxf6  17. Be2?! { (2.15 → 1.10) Inaccuracy. Bh3 was best. }  (17. Bh3 Bxh3) 17... b5  18. a3  18... h5  19. Rdg1  19... Kh7  20. Qe1?? { (1.39 → -0.44) Blunder. f4 was best. }  (20. f4 Nc5) 20... Rb8  21. Qg3?! { (-0.53 → -1.24) Inaccuracy. e5 was best. }  (21. e5) 21... b4  22. axb4?! { (-1.38 → -2.05) Inaccuracy. e5 was best. }  (22. e5 Qf7) 22... Rxb4? { (-2.05 → -0.50) Mistake. Bh6+ was best. }  (22... Bh6+) 23. Rg2?? { (-0.50 → -3.83) Blunder. f4 was best. }  (23. f4) 23... Bf7?? { (-3.83 → -0.47) Blunder. Bh6+ was best. }  (23... Bh6+ 24. Kb1 Bf4 25. Qxg6+ Qxg6 26. Rxg6 Kxg6 27. b3 Nc5 28. Rd1 c6 29. Bxa6 Kf7 30. Ne2) 24. Rhg1?? { (-0.47 → -5.96) Blunder. f4 was best. }  (24. f4) 24... Bh6+  25. Kb1?? { (-5.86 → Mate in 6) Checkmate is now unavoidable. f4 was best. }  (25. f4 Bxf4+ 26. Qxf4 Qxf4+ 27. Kb1 Qxh4 28. Rg5 Kh6 29. Bf3 Qxg5 30. Rxg5 Kxg5 31. Nd5 Bxd5) 25... Qxc3  26. b3  26... Rxb3+  27. cxb3  27... Qxb3+  28. Ka1  28... Qa2# { [%clk 0:06:28] } { Black wins by checkmate. } 0-1\n",
      "\n"
     ]
    }
   ],
   "source": [
    "p2 = r'\\d\\.\\s+\\w+\\s+\\d\\.\\.\\.'\n",
    "\n",
    "r2 = re.sub(p2, '', res)\n",
    "\n",
    "print(r2)"
   ]
  },
  {
   "cell_type": "code",
   "execution_count": 3,
   "metadata": {},
   "outputs": [
    {
     "name": "stdout",
     "output_type": "stream",
     "text": [
      "525\n"
     ]
    }
   ],
   "source": [
    "import tiktoken\n",
    "\n",
    "enc = tiktoken.get_encoding(\"cl100k_base\")\n",
    "encoding = enc.encode('''1. d4 Nf6 2. f4?! { Inaccuracy. c4 was best. } { A45 Canard Opening } 2... d5 3. e3 c5 4. dxc5 Qa5+ 5. Nc3 Nc6?! { Inaccuracy. Qxc5 was best. } 6. a3?! { Inaccuracy. Bb5 was best. } 6... Qxc5 7. b4? { Mistake. Qd2 was best. } 7... Qxc3+? { Mistake. Nxb4 was best. } 8. Bd2 Qb2 9. Ne2?? { Blunder. Rb1 was best. } 9... Ne4 10. g3 Nxd2 11. Kxd2 g6 12. Nc3 Bg7 13. Nxd5 Qxa1?! { Inaccuracy. O-O was best. } 14. Qxa1 Bxa1 15. Nc7+ Kd8 16. Nxa8 Bf5 17. Bb5 Bg7 18. Bxc6 bxc6 19. a4 Kc8 20. b5 cxb5 21. axb5 Kb7 22. b6 axb6 23. h3 Rxa8 24. g4 Be4 25. Rb1 Ra2 26. Rb4 Bxc2 27. Ke2 Be4+ 28. Kf1 Bf3 29. Rb3 Rb2 30. Rd3 Be2+ 31. Kf2?! { Checkmate is now unavoidable. Kg2 was best. } 31... Bxd3+ 32. Kg3 Bf6 33. g5 Bc3 34. Kf3 Rb4 35. h4?! { Checkmate is now unavoidable. Kg4 was best. } 35... Bf5?! { Lost forced checkmate sequence. Be4+ was best. } 36. Kg3 Rb5 37. Kf3 Bd2 38. Kf2?! { Checkmate is now unavoidable. e4 was best. } 38... Rb3 39. Kf3 Rxe3+ 40. Kf2 Ra3 41. Ke2 Bxf4 42. Kf2 b5 { White resigns. }''')\n",
    "\n",
    "print(len(encoding))"
   ]
  },
  {
   "cell_type": "code",
   "execution_count": 4,
   "metadata": {},
   "outputs": [
    {
     "name": "stdout",
     "output_type": "stream",
     "text": [
      "784\n"
     ]
    }
   ],
   "source": [
    "encoding = enc.encode('''1. e4 c6 2. Nf3 d5 3. Nc3 { B10 Caro-Kann Defense: Two Knights Attack } Nf6 4. e5 Ne4 5. Nxe4 dxe4 6. Ng5 Bf5?! { Inaccuracy. Qd5 was best. } (6... Qd5 7. Qe2 Bf5 8. g4 Bg6 9. Bg2 Qxe5 10. Nxe4 Bxe4 11. Qxe4) 7. Bc4?? { Blunder. e6 was best. } (7. e6 fxe6 8. g4 Bg6 9. Bg2 Na6 10. Nxe4 Bxe4 11. Bxe4 g6) 7... e6 8. Nh3? { Mistake. d4 was best. } (8. d4 exd3 9. Bxd3 Qa5+ 10. c3 Qxe5+ 11. Be3 Be7 12. Nf3 Qa5) 8... Nd7 9. d3 Nxe5 10. dxe4?! { Inaccuracy. Bf4 was best. } (10. Bf4 Qa5+) 10... Bxh3 11. Qxd8+ Rxd8 12. Be2?! { Inaccuracy. Bf1 was best. } (12. Bf1 Bg4 13. Be3 f5 14. h3 Bh5 15. exf5 exf5 16. f4 Nd7 17. g4 fxg4 18. O-O-O Nf6) 12... Bxg2 13. Rg1 Bxe4 14. Bg5 f6 15. Bf4 Ng6 16. Bc7 Rd7 17. Bg3 Bxc2 18. Bc4 Bb4+ 19. Kf1 O-O 20. Bxe6+ Kh8?? { Blunder. Rff7 was best. } (20... Rff7 21. a3 Ba5 22. Bb8 Bd3+ 23. Kg2 Be4+ 24. Kf1 Nf8 25. Bxf7+ Kxf7 26. Rg4 Bf5 27. Ra4) 21. Bxd7 Rd8?! { Inaccuracy. Ne5 was best. } (21... Ne5 22. Bxe5 Bd3+ 23. Kg2 fxe5 24. Rgc1 Be4+ 25. Kg1 Ba5 26. Rc4 Bd5 27. Rc2 Bb6 28. Bh3) 22. Rc1?? { Blunder. Bg4 was best. } (22. Bg4 Bd3+) 22... Bd3+ 23. Kg2 Rxd7 24. Rgd1 Be4+ 25. f3 Bd3 26. a3 Ba5 27. b4 Bb6 28. Rc3 Bf5 29. Rxd7 Bxd7 30. Rd3 Bf5 31. Bf2?! { Inaccuracy. Rc3 was best. } (31. Rc3 Kg8 32. a4 Ne5 33. a5 Bc7 34. Bxe5 fxe5 35. h4 Kf8 36. h5 Ke7 37. h6) 31... Nf4+ { White resigns. }''')\n",
    "print(len(encoding))"
   ]
  },
  {
   "cell_type": "code",
   "execution_count": null,
   "metadata": {},
   "outputs": [],
   "source": []
  }
 ],
 "metadata": {
  "kernelspec": {
   "display_name": "base",
   "language": "python",
   "name": "python3"
  },
  "language_info": {
   "codemirror_mode": {
    "name": "ipython",
    "version": 3
   },
   "file_extension": ".py",
   "mimetype": "text/x-python",
   "name": "python",
   "nbconvert_exporter": "python",
   "pygments_lexer": "ipython3",
   "version": "3.11.4 (main, Jul  5 2023, 14:15:25) [GCC 11.2.0]"
  },
  "orig_nbformat": 4,
  "vscode": {
   "interpreter": {
    "hash": "53e4f3483270c75f761fd66a38eeb3d13e824b20dec80a2d9cecaae87cf36ff6"
   }
  }
 },
 "nbformat": 4,
 "nbformat_minor": 2
}
